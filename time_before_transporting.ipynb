{
 "cells": [
  {
   "cell_type": "markdown",
   "metadata": {},
   "source": [
    "## Notebook to examine whether the first ants to transport are the hastiest."
   ]
  },
  {
   "cell_type": "code",
   "execution_count": 409,
   "metadata": {
    "collapsed": false
   },
   "outputs": [
    {
     "name": "stdout",
     "output_type": "stream",
     "text": [
      "Analyzing colony 6 treatment 5\n",
      "Import Success!\n",
      "\n",
      "\n",
      "{'GO**': [23.666666666666668, 7.683333333333334, 175.55], 'LG**': [19.533333333333335, 0.0, 156.13333333333333], 'WGOW': [27.416666666666668, 0.0, 119.65], 'WOo*1': [67.56666666666666, 0.0, 195.41666666666666], 'P*Y*': [28.6, 0.0, 124.06666666666666], '****': [22.7, 11.033333333333333, 125.38333333333334], '*GYP': [31.15, 0.13333333333333333, 141.21666666666667], 'PPWO': [17.733333333333334, 0.03333333333333333, 148.55], 'WGG*': [19.033333333333335, 4.133333333333334, 179.7], 'wp**': [17.516666666666666, 1.2333333333333334, 140.38333333333333], '**WW': [24.016666666666666, 4.583333333333333, 157.53333333333333], 'WO**1': [8.966666666666667, 0.0, 138.8], 'Gg**': [8.05, 0.0, 166.83333333333334], 'PGGY': [58.15, 3.0833333333333335, 195.33333333333334], 'LO*Y': [4.9, 1.2666666666666666, 105.15], '*W**1': [36.5, 2.1333333333333333, 151.65]}\n"
     ]
    }
   ],
   "source": [
    "import numpy as np\n",
    "import pandas as pd\n",
    "import time\n",
    "import matplotlib.pyplot as plt\n",
    "import seaborn as sns\n",
    "%matplotlib inline\n",
    "\n",
    "\n",
    "\n",
    "## Import data\n",
    "\n",
    "col_id = '6'\n",
    "treatment_id = 5\n",
    "print 'Analyzing colony',col_id,'treatment',treatment_id\n",
    "path = '/Users/jakehanson/Documents/Ants/Nest_Choice/Improved_Treatments/Separate_Treatments/col' \\\n",
    "        +str(col_id)+'_treatment'+str(treatment_id)+'.csv'\n",
    "data = pd.DataFrame.from_csv(path,index_col=False)\n",
    "if data.empty == False:\n",
    "    print 'Import Success!\\n\\n'\n",
    "else:\n",
    "    print 'ERROR!!! Data Frame is empty for colony',col_id,'treatment',treatment_id    \n",
    "data = data.sort(['Ant','Time'])  # Sort by ant\n",
    "n_rows = np.shape(data)[0]\n",
    "data.index = np.arange(n_rows)  # Reindex accordingly\n",
    "counter = 0\n",
    "indices = []\n",
    "for i in data['Behavior']:\n",
    "    if i == 'TA':\n",
    "        indices.append(counter)\n",
    "    counter = counter + 1\n",
    "\n",
    "\n",
    "## Get a list of transporter names\n",
    "\n",
    "transport_indices = data[data['Behavior']=='TA'].index.tolist()\n",
    "transporters = np.unique(data.loc[transport_indices]['Ant']).tolist()  # List of transporter names\n",
    "\n",
    "if col_id == '6' and treatment_id == 3:  # This data has a TB at the very beginning of the trial?\n",
    "    transporters.remove('WOo*1')\n",
    "\n",
    "    \n",
    "\n",
    "## For each tranporter, calculate the time spent inside the nest and the time of first transport\n",
    "\n",
    "time_spent = {}  # dict['Ant'] = [time_in_good, time_in_med, first_transport]\n",
    "\n",
    "for i in range(np.size(transporters)):\n",
    "    transporter_data = data[data['Ant'] == transporters[i]]\n",
    "    first_transport = transporter_data[(transporter_data['Behavior']=='TA') | \n",
    "                                      (transporter_data['Behavior']=='TB') |\n",
    "                                      (transporter_data['Behavior']=='TU')]['Time'].iloc[0]    \n",
    "    # Convert time to float rather than string\n",
    "    first_transport = time.strptime(first_transport,'%H:%M:%S')\n",
    "    first_transport = first_transport.tm_hour*3600+first_transport.tm_min*60+first_transport.tm_sec\n",
    "    first_transport = first_transport/60.  # convert to minutes\n",
    "\n",
    "\n",
    "    \n",
    "    enter_data = transporter_data[(transporter_data['Behavior'] == 'E' ) | \n",
    "                                  (transporter_data['Behavior'] == 'TA') |\n",
    "                                  (transporter_data['Behavior'] == 'TB') |\n",
    "                                  (transporter_data['Behavior'] == 'TU') |\n",
    "                                  (transporter_data['Behavior'] == 'BC') ]\n",
    "    \n",
    "    leave_data = transporter_data[(transporter_data['Behavior'] == 'L') | \n",
    "                                  (transporter_data['Behavior'] == 'TAO') |\n",
    "                                  (transporter_data['Behavior'] == 'TBO') |\n",
    "                                  (transporter_data['Behavior'] == 'BCO')]\n",
    "    \n",
    "    time_inside_good = 0.\n",
    "    time_inside_med = 0.\n",
    "    for j in range(len(leave_data.index)):\n",
    "        entry_time = time.strptime(enter_data['Time'].iloc[j],'%H:%M:%S')\n",
    "        entry_time = entry_time.tm_hour*3600+entry_time.tm_min*60+entry_time.tm_sec\n",
    "     \n",
    "        leave_time = time.strptime(leave_data['Time'].iloc[j],'%H:%M:%S')\n",
    "        leave_time = leave_time.tm_hour*3600+leave_time.tm_min*60+leave_time.tm_sec\n",
    "        \n",
    "        if (leave_time - entry_time) < 0:\n",
    "            print 'ERROR! Negative time inside....'\n",
    "            \n",
    "        # only count time BEFORE transport\n",
    "        if (leave_time < (first_transport*60)):\n",
    "            if enter_data['Location/Origin'][enter_data.index[j]] == 'mediocre':\n",
    "                time_inside_med = time_inside_med + (leave_time - entry_time)\n",
    "            elif enter_data['Location/Origin'][enter_data.index[j]] == 'good':\n",
    "                time_inside_good = time_inside_good + (leave_time - entry_time)\n",
    "            else:\n",
    "                print 'ERROR: NEST SITE DOES NOT MATCH MED OR GOOD'\n",
    "    \n",
    "    time_inside_good = time_inside_good/60.  # convert to minutes\n",
    "    time_inside_med = time_inside_med/60.  # convert to minutes\n",
    "    time_spent[transporters[i]] = [time_inside_good,time_inside_med,first_transport]\n",
    "    \n",
    "print time_spent"
   ]
  },
  {
   "cell_type": "markdown",
   "metadata": {},
   "source": [
    "#### Plot the time spent examining vs the time of first transport"
   ]
  },
  {
   "cell_type": "code",
   "execution_count": 410,
   "metadata": {
    "collapsed": false
   },
   "outputs": [
    {
     "name": "stdout",
     "output_type": "stream",
     "text": [
      "[('LO*Y', [4.9, 1.2666666666666666, 105.15]), ('WGOW', [27.416666666666668, 0.0, 119.65]), ('P*Y*', [28.6, 0.0, 124.06666666666666]), ('****', [22.7, 11.033333333333333, 125.38333333333334]), ('WO**1', [8.966666666666667, 0.0, 138.8]), ('wp**', [17.516666666666666, 1.2333333333333334, 140.38333333333333]), ('*GYP', [31.15, 0.13333333333333333, 141.21666666666667]), ('PPWO', [17.733333333333334, 0.03333333333333333, 148.55]), ('*W**1', [36.5, 2.1333333333333333, 151.65]), ('LG**', [19.533333333333335, 0.0, 156.13333333333333]), ('**WW', [24.016666666666666, 4.583333333333333, 157.53333333333333]), ('Gg**', [8.05, 0.0, 166.83333333333334]), ('GO**', [23.666666666666668, 7.683333333333334, 175.55]), ('WGG*', [19.033333333333335, 4.133333333333334, 179.7]), ('PGGY', [58.15, 3.0833333333333335, 195.33333333333334]), ('WOo*1', [67.56666666666666, 0.0, 195.41666666666666])]\n"
     ]
    }
   ],
   "source": [
    "sorted_list = sorted(time_spent.items(), key=lambda x: x[1][2])\n",
    "print sorted_list\n",
    "\n",
    "names = []\n",
    "time_in_med  = []\n",
    "time_in_good = []\n",
    "transport_times = []\n",
    "\n",
    "for i in range(len(sorted_list)):\n",
    "    names.append(sorted_list[i][0])\n",
    "    time_in_good.append(sorted_list[i][1][0])\n",
    "    time_in_med.append(sorted_list[i][1][1])\n",
    "    transport_times.append(sorted_list[i][1][2])"
   ]
  },
  {
   "cell_type": "code",
   "execution_count": 411,
   "metadata": {
    "collapsed": false
   },
   "outputs": [
    {
     "name": "stdout",
     "output_type": "stream",
     "text": [
      "[('LO*Y', [4.9, 1.2666666666666666, 105.15]), ('WGOW', [27.416666666666668, 0.0, 119.65]), ('P*Y*', [28.6, 0.0, 124.06666666666666]), ('****', [22.7, 11.033333333333333, 125.38333333333334]), ('WO**1', [8.966666666666667, 0.0, 138.8]), ('wp**', [17.516666666666666, 1.2333333333333334, 140.38333333333333]), ('*GYP', [31.15, 0.13333333333333333, 141.21666666666667]), ('PPWO', [17.733333333333334, 0.03333333333333333, 148.55]), ('*W**1', [36.5, 2.1333333333333333, 151.65]), ('LG**', [19.533333333333335, 0.0, 156.13333333333333]), ('**WW', [24.016666666666666, 4.583333333333333, 157.53333333333333]), ('Gg**', [8.05, 0.0, 166.83333333333334]), ('GO**', [23.666666666666668, 7.683333333333334, 175.55]), ('WGG*', [19.033333333333335, 4.133333333333334, 179.7]), ('PGGY', [58.15, 3.0833333333333335, 195.33333333333334]), ('WOo*1', [67.56666666666666, 0.0, 195.41666666666666])]\n"
     ]
    },
    {
     "data": {
      "image/png": "[encoded data removed]",
      "text/plain": [
       "<matplotlib.figure.Figure at 0x10b379590>"
      ]
     },
     "metadata": {},
     "output_type": "display_data"
    }
   ],
   "source": [
    "sorted_list = sorted(time_spent.items(), key=lambda x: x[1][2])\n",
    "print sorted_list\n",
    "\n",
    "names = []\n",
    "time_in_med  = []\n",
    "time_in_good = []\n",
    "transport_times = []\n",
    "\n",
    "for i in range(len(sorted_list)):\n",
    "    names.append(sorted_list[i][0])\n",
    "    time_in_good.append(sorted_list[i][1][0])\n",
    "    time_in_med.append(sorted_list[i][1][1])\n",
    "    transport_times.append(sorted_list[i][1][2])\n",
    "\n",
    "plt.bar(np.arange(len(time_spent)),time_in_good,color='green',label='Good Nest')\n",
    "plt.bar(np.arange(len(time_spent)),time_in_med,color='red',bottom=time_in_good,label='Mediocre Nest')\n",
    "plt.legend()\n",
    "plt.xticks(np.arange(len(time_spent))+0.5,['( %.2f )'% elem for elem in transport_times]\n",
    ",size=10,rotation=90)\n",
    "plt.ylabel('Time Inside Nests [min]')\n",
    "plt.xlabel('Ant (First Transport Time)')\n",
    "plt.title('Time Inside Nests Before Transport - Colony '+col_id+'.'+str(treatment_id))\n",
    "plt.tight_layout()\n",
    "plt.savefig('/Users/jakehanson/Desktop/hist_time_exam_col'+col_id+'_t'+str(treatment_id)+'.pdf')\n",
    "plt.show()"
   ]
  },
  {
   "cell_type": "code",
   "execution_count": 412,
   "metadata": {
    "collapsed": false
   },
   "outputs": [
    {
     "data": {
      "image/png": "[encoded data removed]",
      "text/plain": [
       "<matplotlib.figure.Figure at 0x10bb60750>"
      ]
     },
     "metadata": {},
     "output_type": "display_data"
    }
   ],
   "source": [
    "net_time = []\n",
    "for i in range(np.size(time_in_good)):\n",
    "    net_time.append(time_in_good[i]+time_in_med[i])\n",
    "\n",
    "    \n",
    "plt.scatter(transport_times,net_time)\n",
    "\n",
    "#plt.scatter(transport_times,time_in_good+time_in_med,color='green')\n",
    "#plt.scatter(transport_times,time_in_med,color='red')\n",
    "plt.tight_layout()\n",
    "plt.ylim((0,np.max(net_time)+10))\n",
    "plt.xlabel('First Transport Time [min]')\n",
    "plt.ylabel('Time Examining Nest [min]')\n",
    "plt.title('Time Examining Nests Before Transports - Colony ' + col_id+'.'+str(treatment_id))\n",
    "plt.savefig('/Users/jakehanson/Desktop/scatter_time_exam_col'+col_id+'_t'+str(treatment_id)+'.pdf')\n",
    "plt.show()"
   ]
  },
  {
   "cell_type": "markdown",
   "metadata": {},
   "source": [
    "## If there is not a good correlation between the time spent inside examining nests and the time of first transport, this supports Pratt et al 2002 and Pratt (Quorum Sensing) 2005.\n",
    "- An individual ant doesn't care if it has surveyed a nest before recruiting, it \"trusts\" the experience of her nest mates and senses quorum by direct contact and encounter rate.\n",
    "\n",
    "## If there is a good correlation between time spent inside and the time of first tranpsort, then the decision to transport is potentially related to the time spent examining the nests.\n",
    "- Or, there is a hidden variable that is causing this correlation."
   ]
  },
  {
   "cell_type": "markdown",
   "metadata": {},
   "source": [
    "## Colony 208 really seems to show this correlation."
   ]
  },
  {
   "cell_type": "code",
   "execution_count": null,
   "metadata": {
    "collapsed": true
   },
   "outputs": [],
   "source": []
  }
 ],
 "metadata": {
  "kernelspec": {
   "display_name": "Python 2",
   "language": "python",
   "name": "python2"
  },
  "language_info": {
   "codemirror_mode": {
    "name": "ipython",
    "version": 2
   },
   "file_extension": ".py",
   "mimetype": "text/x-python",
   "name": "python",
   "nbconvert_exporter": "python",
   "pygments_lexer": "ipython2",
   "version": "2.7.11"
  }
 },
 "nbformat": 4,
 "nbformat_minor": 0
}
