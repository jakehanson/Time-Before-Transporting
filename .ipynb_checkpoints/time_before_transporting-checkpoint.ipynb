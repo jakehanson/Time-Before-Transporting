{
 "cells": [
  {
   "cell_type": "markdown",
   "metadata": {},
   "source": [
    "## Notebook to examine whether the first ants to transport are the hastiest."
   ]
  },
  {
   "cell_type": "code",
   "execution_count": 169,
   "metadata": {
    "collapsed": false
   },
   "outputs": [
    {
     "name": "stdout",
     "output_type": "stream",
     "text": [
      "Analyzing colony 6 treatment 3\n",
      "Import Success!\n",
      "\n",
      "\n",
      "[9, 11, 42, 46, 208, 222, 281, 285, 287, 295, 355, 357, 359, 361, 365, 375, 377, 527, 597, 599, 684, 695, 697, 701, 705, 707, 711, 715, 720, 759, 761, 771, 794, 835, 843, 845, 855, 857, 893, 895, 899, 903, 907, 915, 917, 919, 923, 925, 927, 933, 937, 964]\n",
      "['****' '**WW' 'BWYL' 'LO*Y' 'P*Y*' 'WGG*' 'WGOW' 'WO**1' 'WOo*1' 'Y*PO'\n",
      " 'Y*yG' 'YO**' 'wp**']\n",
      "{'WO**1': [71.41666666666667, 586.4833333333333], 'WGOW': [133.31666666666666, 628.95], 'YO**': [93.88333333333334, 598.3666666666667], 'P*Y*': [157.26666666666668, 597.2166666666667], '****': [55.0, 664.8666666666667], 'WGG*': [56.7, 660.8], 'Y*PO': [38.11666666666667, 669.85], 'Y*yG': [153.18333333333334, 626.1666666666666], 'wp**': [16.833333333333332, 671.8833333333333], '**WW': [48.13333333333333, 652.15], 'BWYL': [66.43333333333334, 620.9666666666667], 'LO*Y': [57.85, 613.0], 'WOo*1': [0.0, 124.35]}\n"
     ]
    }
   ],
   "source": [
    "import numpy as np\n",
    "import pandas as pd\n",
    "import time\n",
    "import matplotlib.pyplot as plt\n",
    "import seaborn as sns\n",
    "%matplotlib inline\n",
    "\n",
    "\n",
    "# First for a single treatment\n",
    "col_id = '6'\n",
    "treatment_id = 3\n",
    "print 'Analyzing colony',col_id,'treatment',treatment_id\n",
    "\n",
    "# Import data\n",
    "path = '/Users/jakehanson/Documents/Ants/Nest_Choice/Improved_Treatments/Separate_Treatments/col' \\\n",
    "        +str(col_id)+'_treatment'+str(treatment_id)+'.csv'\n",
    "data = pd.DataFrame.from_csv(path,index_col=False)\n",
    "if data.empty == False:\n",
    "    print 'Import Success!\\n\\n'\n",
    "else:\n",
    "    print 'ERROR!!! Data Frame is empty for colony',col_id,'treatment',treatment_id    \n",
    "\n",
    "data = data.sort(['Ant','Time'])  # Sort by ant\n",
    "n_rows = np.shape(data)[0]\n",
    "data.index = np.arange(n_rows)  # Reindex accordingly\n",
    "\n",
    "counter = 0\n",
    "indices = []\n",
    "for i in data['Behavior']:\n",
    "    if i == 'TA':\n",
    "        indices.append(counter)\n",
    "    counter = counter + 1\n",
    "\n",
    "print indices\n",
    "\n",
    "# Get a list of transporter names\n",
    "transport_indices = data[data['Behavior']=='TA'].index.tolist()\n",
    "transporters = np.unique(data.loc[transport_indices]['Ant'])  # List of transporter names\n",
    "\n",
    "print transporters\n",
    "\n",
    "time_spent = {}\n",
    "\n",
    "# For each tranporter, calculate the time spent inside the nest and the time of first transport\n",
    "\n",
    "for i in range(np.size(transporters)):\n",
    "    transporter_data = data[data['Ant'] == transporters[i]]\n",
    "    first_transport = transporter_data[(transporter_data['Behavior']=='TA') | \n",
    "                                      (transporter_data['Behavior']=='TB') |\n",
    "                                      (transporter_data['Behavior']=='TU')]['Time'].iloc[0]    \n",
    "    # Convert time to float rather than string\n",
    "    first_transport = time.strptime(first_transport,'%H:%M:%S')\n",
    "    first_transport = first_transport.tm_hour*3600+first_transport.tm_min*60+first_transport.tm_sec\n",
    "    first_transport = first_transport/60.  # convert to minutes\n",
    "\n",
    "\n",
    "    \n",
    "    enter_data = transporter_data[(transporter_data['Behavior'] == 'E' ) | \n",
    "                                  (transporter_data['Behavior'] == 'TA') |\n",
    "                                  (transporter_data['Behavior'] == 'TB') |\n",
    "                                  (transporter_data['Behavior'] == 'TU') |\n",
    "                                  (transporter_data['Behavior'] == 'BC') ]\n",
    "    \n",
    "    leave_data = transporter_data[(transporter_data['Behavior'] == 'L') | \n",
    "                                  (transporter_data['Behavior'] == 'TAO') |\n",
    "                                  (transporter_data['Behavior'] == 'TBO') |\n",
    "                                  (transporter_data['Behavior'] == 'BCO')]\n",
    "    \n",
    "    time_inside = 0.\n",
    "    for j in range(len(leave_data.index)):\n",
    "        entry_time = time.strptime(enter_data['Time'].iloc[j],'%H:%M:%S')\n",
    "        entry_time = entry_time.tm_hour*3600+entry_time.tm_min*60+entry_time.tm_sec\n",
    "     \n",
    "        leave_time = time.strptime(leave_data['Time'].iloc[j],'%H:%M:%S')\n",
    "        leave_time = leave_time.tm_hour*3600+leave_time.tm_min*60+leave_time.tm_sec\n",
    "        \n",
    "        if (leave_time - entry_time) < 0:\n",
    "            print 'ERROR! Negative time inside....'\n",
    "            \n",
    "        # only count time BEFORE transport\n",
    "        if leave_time < (first_transport*60):\n",
    "            time_inside = time_inside + (leave_time - entry_time)  # only count time BEFORE transport\n",
    "    \n",
    "    time_inside = time_inside/60.  # convert to minutes\n",
    "    time_spent[transporters[i]] = [time_inside,first_transport]\n",
    "    \n",
    "print time_spent"
   ]
  },
  {
   "cell_type": "markdown",
   "metadata": {},
   "source": [
    "#### Plot the time spent examining vs the time of first transport"
   ]
  },
  {
   "cell_type": "code",
   "execution_count": null,
   "metadata": {
    "collapsed": true
   },
   "outputs": [],
   "source": []
  }
 ],
 "metadata": {
  "kernelspec": {
   "display_name": "Python 2",
   "language": "python",
   "name": "python2"
  },
  "language_info": {
   "codemirror_mode": {
    "name": "ipython",
    "version": 2
   },
   "file_extension": ".py",
   "mimetype": "text/x-python",
   "name": "python",
   "nbconvert_exporter": "python",
   "pygments_lexer": "ipython2",
   "version": "2.7.11"
  }
 },
 "nbformat": 4,
 "nbformat_minor": 0
}
